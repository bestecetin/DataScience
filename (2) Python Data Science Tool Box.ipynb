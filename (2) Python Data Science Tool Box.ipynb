{
 "cells": [
  {
   "cell_type": "markdown",
   "id": "b5d47faa",
   "metadata": {},
   "source": [
    "<h3>USER DEFINED FUNCTION</h3>"
   ]
  },
  {
   "cell_type": "markdown",
   "id": "f1fbfcc2",
   "metadata": {},
   "source": [
    "<li><strong>docstrings:</strong>fonksiyonun ne yaptıgını açıklayan string.</li>\n",
    "<ul>for function():<br>\n",
    "\"\"\"This is docstring for documentation of function f\"\"\"\n",
    "</ul>\n",
    "<li><strong>tuple:</strong>parantezle ifade ettiğimiz icine degerler alabilen data type.</li>\n",
    "<ul>tuple=(1,2,3) <br>\n",
    "    tuple'ı a,b,c=tuple olarak degiskenlere ayırabiliriz.\n",
    "</ul>"
   ]
  },
  {
   "cell_type": "code",
   "execution_count": 2,
   "id": "b1cb2c80",
   "metadata": {},
   "outputs": [
    {
     "name": "stdout",
     "output_type": "stream",
     "text": [
      "1 2 3\n"
     ]
    }
   ],
   "source": [
    "def tuple_ex():\n",
    "    \"\"\"return defined t tuble\"\"\"\n",
    "    t=(1,2,3)\n",
    "    return t\n",
    "a,b,c=tuple_ex()\n",
    "print(a,b,c)"
   ]
  },
  {
   "cell_type": "markdown",
   "id": "11e0348c",
   "metadata": {},
   "source": [
    "<h3>SCOPE</h3>"
   ]
  },
  {
   "cell_type": "markdown",
   "id": "274ca381",
   "metadata": {},
   "source": [
    "<li><strong>global:</strong>main body'de tanımlanır, herkes tarafından erişilebilir.</li>\n",
    "<li><strong>local:</strong>fonksiyonun içinde tanımlanan değiskenlerdir, sadece methodun icinde erişilebilir</li>\n",
    "<li><strong>built in scope:</strong>python tarafından belli bir göreve atanmış isim mesela print,len,type. (bu gibi isimleri degisken ismi olarakta kullanamayız.)</li>"
   ]
  },
  {
   "cell_type": "code",
   "execution_count": 3,
   "id": "8a209518",
   "metadata": {},
   "outputs": [
    {
     "name": "stdout",
     "output_type": "stream",
     "text": [
      "2\n"
     ]
    }
   ],
   "source": [
    "x=2 #global scope\n",
    "def f():\n",
    "    x=3\n",
    "    return x #local scope\n",
    "print(x)"
   ]
  },
  {
   "cell_type": "code",
   "execution_count": 4,
   "id": "77b61d2d",
   "metadata": {},
   "outputs": [
    {
     "name": "stdout",
     "output_type": "stream",
     "text": [
      "10\n"
     ]
    }
   ],
   "source": [
    "x=5\n",
    "def f():\n",
    "    y=2*x\n",
    "    return y\n",
    "print(f())"
   ]
  },
  {
   "cell_type": "markdown",
   "id": "28f17791",
   "metadata": {},
   "source": [
    "methodumun icinde local'de bir x yok bu sefer global'e bakarak x=5'i kullanacak.<br> Eger ikisi de yoksa built in scope'a bakar."
   ]
  },
  {
   "cell_type": "code",
   "execution_count": 5,
   "id": "d7988c94",
   "metadata": {},
   "outputs": [
    {
     "data": {
      "text/plain": [
       "['ArithmeticError',\n",
       " 'AssertionError',\n",
       " 'AttributeError',\n",
       " 'BaseException',\n",
       " 'BlockingIOError',\n",
       " 'BrokenPipeError',\n",
       " 'BufferError',\n",
       " 'BytesWarning',\n",
       " 'ChildProcessError',\n",
       " 'ConnectionAbortedError',\n",
       " 'ConnectionError',\n",
       " 'ConnectionRefusedError',\n",
       " 'ConnectionResetError',\n",
       " 'DeprecationWarning',\n",
       " 'EOFError',\n",
       " 'Ellipsis',\n",
       " 'EnvironmentError',\n",
       " 'Exception',\n",
       " 'False',\n",
       " 'FileExistsError',\n",
       " 'FileNotFoundError',\n",
       " 'FloatingPointError',\n",
       " 'FutureWarning',\n",
       " 'GeneratorExit',\n",
       " 'IOError',\n",
       " 'ImportError',\n",
       " 'ImportWarning',\n",
       " 'IndentationError',\n",
       " 'IndexError',\n",
       " 'InterruptedError',\n",
       " 'IsADirectoryError',\n",
       " 'KeyError',\n",
       " 'KeyboardInterrupt',\n",
       " 'LookupError',\n",
       " 'MemoryError',\n",
       " 'ModuleNotFoundError',\n",
       " 'NameError',\n",
       " 'None',\n",
       " 'NotADirectoryError',\n",
       " 'NotImplemented',\n",
       " 'NotImplementedError',\n",
       " 'OSError',\n",
       " 'OverflowError',\n",
       " 'PendingDeprecationWarning',\n",
       " 'PermissionError',\n",
       " 'ProcessLookupError',\n",
       " 'RecursionError',\n",
       " 'ReferenceError',\n",
       " 'ResourceWarning',\n",
       " 'RuntimeError',\n",
       " 'RuntimeWarning',\n",
       " 'StopAsyncIteration',\n",
       " 'StopIteration',\n",
       " 'SyntaxError',\n",
       " 'SyntaxWarning',\n",
       " 'SystemError',\n",
       " 'SystemExit',\n",
       " 'TabError',\n",
       " 'TimeoutError',\n",
       " 'True',\n",
       " 'TypeError',\n",
       " 'UnboundLocalError',\n",
       " 'UnicodeDecodeError',\n",
       " 'UnicodeEncodeError',\n",
       " 'UnicodeError',\n",
       " 'UnicodeTranslateError',\n",
       " 'UnicodeWarning',\n",
       " 'UserWarning',\n",
       " 'ValueError',\n",
       " 'Warning',\n",
       " 'ZeroDivisionError',\n",
       " '__IPYTHON__',\n",
       " '__build_class__',\n",
       " '__debug__',\n",
       " '__doc__',\n",
       " '__import__',\n",
       " '__loader__',\n",
       " '__name__',\n",
       " '__package__',\n",
       " '__spec__',\n",
       " 'abs',\n",
       " 'all',\n",
       " 'any',\n",
       " 'ascii',\n",
       " 'bin',\n",
       " 'bool',\n",
       " 'breakpoint',\n",
       " 'bytearray',\n",
       " 'bytes',\n",
       " 'callable',\n",
       " 'chr',\n",
       " 'classmethod',\n",
       " 'compile',\n",
       " 'complex',\n",
       " 'copyright',\n",
       " 'credits',\n",
       " 'delattr',\n",
       " 'dict',\n",
       " 'dir',\n",
       " 'display',\n",
       " 'divmod',\n",
       " 'enumerate',\n",
       " 'eval',\n",
       " 'exec',\n",
       " 'execfile',\n",
       " 'filter',\n",
       " 'float',\n",
       " 'format',\n",
       " 'frozenset',\n",
       " 'get_ipython',\n",
       " 'getattr',\n",
       " 'globals',\n",
       " 'hasattr',\n",
       " 'hash',\n",
       " 'help',\n",
       " 'hex',\n",
       " 'id',\n",
       " 'input',\n",
       " 'int',\n",
       " 'isinstance',\n",
       " 'issubclass',\n",
       " 'iter',\n",
       " 'len',\n",
       " 'license',\n",
       " 'list',\n",
       " 'locals',\n",
       " 'map',\n",
       " 'max',\n",
       " 'memoryview',\n",
       " 'min',\n",
       " 'next',\n",
       " 'object',\n",
       " 'oct',\n",
       " 'open',\n",
       " 'ord',\n",
       " 'pow',\n",
       " 'print',\n",
       " 'property',\n",
       " 'range',\n",
       " 'repr',\n",
       " 'reversed',\n",
       " 'round',\n",
       " 'runfile',\n",
       " 'set',\n",
       " 'setattr',\n",
       " 'slice',\n",
       " 'sorted',\n",
       " 'staticmethod',\n",
       " 'str',\n",
       " 'sum',\n",
       " 'super',\n",
       " 'tuple',\n",
       " 'type',\n",
       " 'vars',\n",
       " 'zip']"
      ]
     },
     "execution_count": 5,
     "metadata": {},
     "output_type": "execute_result"
    }
   ],
   "source": [
    "#built in scope'ları öğrenmek icin:\n",
    "import builtins\n",
    "dir(builtins)"
   ]
  },
  {
   "cell_type": "markdown",
   "id": "6112a993",
   "metadata": {},
   "source": [
    "<h3>NESTED FUNCTION</h3>"
   ]
  },
  {
   "cell_type": "markdown",
   "id": "6228faa5",
   "metadata": {},
   "source": [
    "fonksiyonun içine başka bir fonksiyonu yazmadığımızda bu nested function oluyor.(İç içe fonksiyon)."
   ]
  },
  {
   "cell_type": "code",
   "execution_count": 7,
   "id": "0282527d",
   "metadata": {},
   "outputs": [
    {
     "name": "stdout",
     "output_type": "stream",
     "text": [
      "25\n"
     ]
    }
   ],
   "source": [
    "def square():\n",
    "    \"\"\"return square of value\"\"\"\n",
    "    def add():\n",
    "        \"\"\"add two local variable\"\"\"\n",
    "        x=2\n",
    "        y=3\n",
    "        z=2+3\n",
    "        return z\n",
    "    return add()**2\n",
    "print(square())"
   ]
  },
  {
   "cell_type": "markdown",
   "id": "fbbf8810",
   "metadata": {},
   "source": [
    "<h3>DEFAULT and FLEXIBLE ARGUMENTS</h3>"
   ]
  },
  {
   "cell_type": "markdown",
   "id": "77ac31f4",
   "metadata": {},
   "source": [
    "<li>Default argument example:</li>\n",
    "<ul>f(a,b=1):</ul>\n",
    "        <ul>\"\"\"b=1 is default argument\"\"\"</ul> (Yani b icin bir deger girilmezse default olarak 1 kullanılacak)"
   ]
  },
  {
   "cell_type": "code",
   "execution_count": 10,
   "id": "b45d57d0",
   "metadata": {},
   "outputs": [
    {
     "name": "stdout",
     "output_type": "stream",
     "text": [
      "8\n",
      "17\n"
     ]
    }
   ],
   "source": [
    "def f(a,b=1,c=2):\n",
    "    y=a+b+c\n",
    "    return y\n",
    "print(f(5))\n",
    "print(f(5,4,8))"
   ]
  },
  {
   "cell_type": "markdown",
   "id": "0be49100",
   "metadata": {},
   "source": [
    "<li>Flexible argument example:</li>\n",
    "<ul>def(*args):</ul>\n",
    "<ul>\"\"\" *args can be one or more \"\"\"</ul> \n",
    "istedigimiz kadar parametre yollamak için *args kullanıyoruz. <br>\n",
    "**kwargs ise yine aynı şekilde fakat dictionary icin kullanılır, icine dictionary yollarız. dictionary yapısındaki gibi kwargs.item( ) ile key ve value'lara erisebiliyoruz."
   ]
  },
  {
   "cell_type": "code",
   "execution_count": 11,
   "id": "c3c472af",
   "metadata": {},
   "outputs": [
    {
     "name": "stdout",
     "output_type": "stream",
     "text": [
      "1\n",
      "\n",
      "1\n",
      "2\n",
      "3\n",
      "4\n"
     ]
    }
   ],
   "source": [
    "def f(*args):\n",
    "    for i in args:\n",
    "        print(i)\n",
    "f(1)\n",
    "print(\"\")\n",
    "f(1,2,3,4)"
   ]
  },
  {
   "cell_type": "code",
   "execution_count": 12,
   "id": "6db4ad94",
   "metadata": {},
   "outputs": [
    {
     "name": "stdout",
     "output_type": "stream",
     "text": [
      "country   spain\n",
      "capital   madrid\n",
      "population   12345\n"
     ]
    }
   ],
   "source": [
    "def f(**kwargs):\n",
    "    \"\"\"print key and value of dictionary\"\"\"\n",
    "    for key, value in kwargs.items():\n",
    "        print(key,\" \",value)\n",
    "f(country='spain',capital='madrid',population=12345)"
   ]
  },
  {
   "cell_type": "markdown",
   "id": "6b5512e1",
   "metadata": {},
   "source": [
    "<h3>LAMBDA FUNCTION</h3><br>\n",
    "Fonksiyon yazmanın kısa ve kolay yolu."
   ]
  },
  {
   "cell_type": "code",
   "execution_count": 21,
   "id": "0d2ec816",
   "metadata": {},
   "outputs": [
    {
     "data": {
      "text/plain": [
       "81"
      ]
     },
     "execution_count": 21,
     "metadata": {},
     "output_type": "execute_result"
    }
   ],
   "source": [
    "#user defined function (long way)\n",
    "def square(x): #bir sayının karesini alan fonksiyon.    \n",
    "    return x**2\n",
    "square(9)"
   ]
  },
  {
   "cell_type": "code",
   "execution_count": 22,
   "id": "d63c76e0",
   "metadata": {},
   "outputs": [
    {
     "name": "stdout",
     "output_type": "stream",
     "text": [
      "25\n"
     ]
    }
   ],
   "source": [
    "#lamba function (short way)\n",
    "square=lambda x:x**2 #bir sayının karesini alan fonksiyon.\n",
    "print(square(5))"
   ]
  },
  {
   "cell_type": "code",
   "execution_count": 23,
   "id": "5fa845bb",
   "metadata": {},
   "outputs": [
    {
     "name": "stdout",
     "output_type": "stream",
     "text": [
      "6\n"
     ]
    }
   ],
   "source": [
    "tot=lambda x,y,z:x+y+z  #üç sayının toplamını hesaplayan fonksiyon.\n",
    "print(tot(1,2,3))"
   ]
  },
  {
   "cell_type": "markdown",
   "id": "eaa5d621",
   "metadata": {},
   "source": [
    "<h3>ANONYMOUS FUNCTION</h3><BR>\n",
    "    <li>Lambda function'a benziyor fakat birden fazla argument alabiliyor.</li>\n",
    "    <ul><strong>map(func,seq):</strong>fonksiyonumuzun icine listedeki tüm elemanları uyguluyor.</ul>\n",
    "    "
   ]
  },
  {
   "cell_type": "code",
   "execution_count": 25,
   "id": "faaa5ce3",
   "metadata": {},
   "outputs": [
    {
     "name": "stdout",
     "output_type": "stream",
     "text": [
      "[1, 4, 9]\n"
     ]
    }
   ],
   "source": [
    "my_list=[1,2,3]\n",
    "my_func=map(lambda x:x**2, my_list)\n",
    "print(list(my_func))"
   ]
  },
  {
   "cell_type": "markdown",
   "id": "b074a048",
   "metadata": {},
   "source": [
    "<h3>ITERATORS</h3> <br>\n",
    "<li><strong>iterable:</strong>iterator döndürebilen bir object.</li>\n",
    "<li><strong>example:</strong>list, string, dictionaries.</li>\n",
    "<li><strong>iterator:</strong>next( ) methoduyla bir sonraki value'u üretir</li>"
   ]
  },
  {
   "cell_type": "code",
   "execution_count": 28,
   "id": "c01d854b",
   "metadata": {},
   "outputs": [
    {
     "name": "stdout",
     "output_type": "stream",
     "text": [
      "a\n",
      "r\n",
      "d a\n"
     ]
    }
   ],
   "source": [
    "name=\"arda\"\n",
    "it=iter(name)\n",
    "print(next(it)) #ilk harf\n",
    "print(next(it)) #ikinci har\n",
    "print(*it)      #geri kalanı"
   ]
  },
  {
   "cell_type": "markdown",
   "id": "913480be",
   "metadata": {},
   "source": [
    "<strong>zip( ):</strong> zip list"
   ]
  },
  {
   "cell_type": "code",
   "execution_count": 32,
   "id": "f91980f4",
   "metadata": {},
   "outputs": [
    {
     "name": "stdout",
     "output_type": "stream",
     "text": [
      "<zip object at 0x7fb3243ff940>\n"
     ]
    }
   ],
   "source": [
    "list1=[1,2,3,4]\n",
    "list2=[5,6,7,8]\n",
    "z=zip(list1,list2)\n",
    "print(z) #iki listeyi birleştirip bir zip object yapıyor bunu list'e çevirip yazdırabiliriz."
   ]
  },
  {
   "cell_type": "code",
   "execution_count": 33,
   "id": "4490c852",
   "metadata": {},
   "outputs": [
    {
     "name": "stdout",
     "output_type": "stream",
     "text": [
      "[(1, 5), (2, 6), (3, 7), (4, 8)]\n"
     ]
    }
   ],
   "source": [
    "z_list=list(z) #listeye çevirdik.\n",
    "print(z_list)"
   ]
  },
  {
   "cell_type": "markdown",
   "id": "4f624ad5",
   "metadata": {},
   "source": [
    "listeye çevirilmiş zip dosyasını tekrardan iki ayrı liste yapmak icin(unzip):"
   ]
  },
  {
   "cell_type": "code",
   "execution_count": 36,
   "id": "406ceaa0",
   "metadata": {},
   "outputs": [
    {
     "name": "stdout",
     "output_type": "stream",
     "text": [
      "(1, 2, 3, 4)\n",
      "(5, 6, 7, 8)\n",
      "<class 'tuple'>\n"
     ]
    }
   ],
   "source": [
    "un_zip=zip(*z_list)\n",
    "un_list1, unlist2 =list(un_zip) #unzip return tuple\n",
    "print(un_list1)\n",
    "print(unlist2)\n",
    "print(type(unlist2))"
   ]
  },
  {
   "cell_type": "markdown",
   "id": "921e5fb7",
   "metadata": {},
   "source": [
    "<h3>LIST COMPREHENSION</h3><br>\n",
    "bir satırda döngüler kullanarak yeni listeler elde etmek icin kullanırız."
   ]
  },
  {
   "cell_type": "code",
   "execution_count": 38,
   "id": "388e2b5e",
   "metadata": {},
   "outputs": [
    {
     "name": "stdout",
     "output_type": "stream",
     "text": [
      "[2, 3, 4]\n"
     ]
    }
   ],
   "source": [
    "num1=[1,2,3]\n",
    "num2=[i+1 for i in num1]\n",
    "print(num2)"
   ]
  },
  {
   "cell_type": "markdown",
   "id": "9ce4d3c3",
   "metadata": {},
   "source": [
    "<strong>i + 1 for in num1:</strong> list of comprehension<br>\n",
    "<strong>i + 1 : </strong>list comprehension syntax <br>\n",
    "<strong>for i in num1 : </strong>for loop syntax <br>\n",
    "<strong>i: </strong>iteration <br>\n",
    "<strong>num1: </strong>iterable object"
   ]
  },
  {
   "cell_type": "code",
   "execution_count": 41,
   "id": "a3901e16",
   "metadata": {},
   "outputs": [
    {
     "name": "stdout",
     "output_type": "stream",
     "text": [
      "[0, 100, 20]\n"
     ]
    }
   ],
   "source": [
    "#conditional on iterable \n",
    "num1=[5,10,15]\n",
    "num2=[i**2 if i==10 else i-5 if i<7 else i+5 for i in num1]\n",
    "print(num2)"
   ]
  },
  {
   "cell_type": "code",
   "execution_count": 42,
   "id": "10ae180d",
   "metadata": {},
   "outputs": [],
   "source": [
    "import pandas as pd\n",
    "df=pd.read_csv('/Users/bestecetin/PycharmProjects/hafta1-datascience/archive/pokemon.csv')"
   ]
  },
  {
   "cell_type": "code",
   "execution_count": 43,
   "id": "ecdc8d21",
   "metadata": {},
   "outputs": [
    {
     "name": "stdout",
     "output_type": "stream",
     "text": [
      "<class 'pandas.core.frame.DataFrame'>\n",
      "RangeIndex: 800 entries, 0 to 799\n",
      "Data columns (total 12 columns):\n",
      " #   Column      Non-Null Count  Dtype \n",
      "---  ------      --------------  ----- \n",
      " 0   #           800 non-null    int64 \n",
      " 1   Name        799 non-null    object\n",
      " 2   Type 1      800 non-null    object\n",
      " 3   Type 2      414 non-null    object\n",
      " 4   HP          800 non-null    int64 \n",
      " 5   Attack      800 non-null    int64 \n",
      " 6   Defense     800 non-null    int64 \n",
      " 7   Sp. Atk     800 non-null    int64 \n",
      " 8   Sp. Def     800 non-null    int64 \n",
      " 9   Speed       800 non-null    int64 \n",
      " 10  Generation  800 non-null    int64 \n",
      " 11  Legendary   800 non-null    bool  \n",
      "dtypes: bool(1), int64(8), object(3)\n",
      "memory usage: 69.7+ KB\n"
     ]
    }
   ],
   "source": [
    "df.info()"
   ]
  },
  {
   "cell_type": "code",
   "execution_count": 45,
   "id": "56dcc019",
   "metadata": {},
   "outputs": [
    {
     "name": "stdout",
     "output_type": "stream",
     "text": [
      "68.2775\n"
     ]
    }
   ],
   "source": [
    "ort=sum(df.Speed)/len(df.Speed)#ortalama hızı bulduk\n",
    "print(ort)"
   ]
  },
  {
   "cell_type": "code",
   "execution_count": 47,
   "id": "ba95576d",
   "metadata": {},
   "outputs": [],
   "source": [
    "df[\"threshold\"]=[\"high\" if i> ort else \"low\" for i in df.Speed] #ortalam hızdan yuksek hıza sahip olanlara high \n",
    "#olmayanlara low atadık."
   ]
  },
  {
   "cell_type": "code",
   "execution_count": 50,
   "id": "5e1ba359",
   "metadata": {},
   "outputs": [
    {
     "data": {
      "text/html": [
       "<div>\n",
       "<style scoped>\n",
       "    .dataframe tbody tr th:only-of-type {\n",
       "        vertical-align: middle;\n",
       "    }\n",
       "\n",
       "    .dataframe tbody tr th {\n",
       "        vertical-align: top;\n",
       "    }\n",
       "\n",
       "    .dataframe thead th {\n",
       "        text-align: right;\n",
       "    }\n",
       "</style>\n",
       "<table border=\"1\" class=\"dataframe\">\n",
       "  <thead>\n",
       "    <tr style=\"text-align: right;\">\n",
       "      <th></th>\n",
       "      <th>threshold</th>\n",
       "      <th>Speed</th>\n",
       "    </tr>\n",
       "  </thead>\n",
       "  <tbody>\n",
       "    <tr>\n",
       "      <th>0</th>\n",
       "      <td>low</td>\n",
       "      <td>45</td>\n",
       "    </tr>\n",
       "    <tr>\n",
       "      <th>1</th>\n",
       "      <td>low</td>\n",
       "      <td>60</td>\n",
       "    </tr>\n",
       "    <tr>\n",
       "      <th>2</th>\n",
       "      <td>high</td>\n",
       "      <td>80</td>\n",
       "    </tr>\n",
       "    <tr>\n",
       "      <th>3</th>\n",
       "      <td>high</td>\n",
       "      <td>80</td>\n",
       "    </tr>\n",
       "    <tr>\n",
       "      <th>4</th>\n",
       "      <td>low</td>\n",
       "      <td>65</td>\n",
       "    </tr>\n",
       "    <tr>\n",
       "      <th>5</th>\n",
       "      <td>high</td>\n",
       "      <td>80</td>\n",
       "    </tr>\n",
       "    <tr>\n",
       "      <th>6</th>\n",
       "      <td>high</td>\n",
       "      <td>100</td>\n",
       "    </tr>\n",
       "    <tr>\n",
       "      <th>7</th>\n",
       "      <td>high</td>\n",
       "      <td>100</td>\n",
       "    </tr>\n",
       "    <tr>\n",
       "      <th>8</th>\n",
       "      <td>high</td>\n",
       "      <td>100</td>\n",
       "    </tr>\n",
       "    <tr>\n",
       "      <th>9</th>\n",
       "      <td>low</td>\n",
       "      <td>43</td>\n",
       "    </tr>\n",
       "    <tr>\n",
       "      <th>10</th>\n",
       "      <td>low</td>\n",
       "      <td>58</td>\n",
       "    </tr>\n",
       "  </tbody>\n",
       "</table>\n",
       "</div>"
      ],
      "text/plain": [
       "   threshold  Speed\n",
       "0        low     45\n",
       "1        low     60\n",
       "2       high     80\n",
       "3       high     80\n",
       "4        low     65\n",
       "5       high     80\n",
       "6       high    100\n",
       "7       high    100\n",
       "8       high    100\n",
       "9        low     43\n",
       "10       low     58"
      ]
     },
     "execution_count": 50,
     "metadata": {},
     "output_type": "execute_result"
    }
   ],
   "source": [
    "df.loc[:10,[\"threshold\",\"Speed\"]]"
   ]
  },
  {
   "cell_type": "code",
   "execution_count": null,
   "id": "2f290be7",
   "metadata": {},
   "outputs": [],
   "source": []
  }
 ],
 "metadata": {
  "kernelspec": {
   "display_name": "Python 3 (ipykernel)",
   "language": "python",
   "name": "python3"
  },
  "language_info": {
   "codemirror_mode": {
    "name": "ipython",
    "version": 3
   },
   "file_extension": ".py",
   "mimetype": "text/x-python",
   "name": "python",
   "nbconvert_exporter": "python",
   "pygments_lexer": "ipython3",
   "version": "3.9.7"
  }
 },
 "nbformat": 4,
 "nbformat_minor": 5
}
